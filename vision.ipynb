{
  "cells": [
    {
      "cell_type": "markdown",
      "metadata": {},
      "source": [
        "# 기본 라이브러리 설치 및 구글 드라이브 마운트"
      ]
    },
    {
      "cell_type": "code",
      "execution_count": 76,
      "metadata": {
        "colab": {
          "base_uri": "https://localhost:8080/"
        },
        "id": "d_1arCtytjh6",
        "outputId": "6c527583-053e-44fb-a8bb-daeaae23d787"
      },
      "outputs": [],
      "source": [
        "#!pip install Pillow\n",
        "#!pip install ultralytics\n",
        "#!pip install IPython"
      ]
    },
    {
      "cell_type": "code",
      "execution_count": 77,
      "metadata": {
        "colab": {
          "base_uri": "https://localhost:8080/"
        },
        "id": "Vxr5R0wqUTyR",
        "outputId": "118e1fa8-7b8c-49bd-ad8b-6fb70b1d4a0f"
      },
      "outputs": [],
      "source": [
        "#from google.colab import drive\n",
        "#drive.mount('/content/drive')"
      ]
    },
    {
      "cell_type": "code",
      "execution_count": 150,
      "metadata": {
        "id": "jCNncgeCtra_"
      },
      "outputs": [],
      "source": [
        "from ultralytics import YOLO # pose detection모델\n",
        "from PIL import Image   # 파이썬 이미지 라이브러리\n",
        "#from IPython.display import Image  # colab에서 이미지 출력하기 위해 사용\n",
        "import numpy as np\n",
        "import pandas as pd"
      ]
    },
    {
      "cell_type": "markdown",
      "metadata": {},
      "source": [
        "# YOLO 모델 이용해서 이미지 추론하기"
      ]
    },
    {
      "cell_type": "code",
      "execution_count": 79,
      "metadata": {
        "id": "_9FZhefTt-7E"
      },
      "outputs": [],
      "source": [
        "model = YOLO('yolov8n-pose.pt') # yolov8~ 은 모델 버전 및 기능 설명, https://docs.ultralytics.com/tasks/pose/#models"
      ]
    },
    {
      "cell_type": "code",
      "execution_count": 90,
      "metadata": {
        "colab": {
          "base_uri": "https://localhost:8080/"
        },
        "id": "MoKccTsAuGvk",
        "outputId": "186e2a0d-9330-4ba6-cf86-3593a7d9545a"
      },
      "outputs": [
        {
          "name": "stdout",
          "output_type": "stream",
          "text": [
            "\n",
            "image 1/1 /Users/jin.p/Documents/image/pilates.jpeg: 448x640 1 person, 125.7ms\n",
            "Speed: 21.3ms preprocess, 125.7ms inference, 15.9ms postprocess per image at shape (1, 3, 448, 640)\n"
          ]
        }
      ],
      "source": [
        "results = model('/Users/jin.p/Documents/image/pilates.jpeg')  # 이미지에서 예측"
      ]
    },
    {
      "cell_type": "code",
      "execution_count": 180,
      "metadata": {
        "colab": {
          "base_uri": "https://localhost:8080/"
        },
        "id": "sJQ13fjzVJ-Q",
        "outputId": "32edf984-d323-42ec-9cfb-847fa14ac632"
      },
      "outputs": [
        {
          "data": {
            "text/html": [
              "<div>\n",
              "<style scoped>\n",
              "    .dataframe tbody tr th:only-of-type {\n",
              "        vertical-align: middle;\n",
              "    }\n",
              "\n",
              "    .dataframe tbody tr th {\n",
              "        vertical-align: top;\n",
              "    }\n",
              "\n",
              "    .dataframe thead th {\n",
              "        text-align: right;\n",
              "    }\n",
              "</style>\n",
              "<table border=\"1\" class=\"dataframe\">\n",
              "  <thead>\n",
              "    <tr style=\"text-align: right;\">\n",
              "      <th></th>\n",
              "      <th>0</th>\n",
              "      <th>1</th>\n",
              "    </tr>\n",
              "  </thead>\n",
              "  <tbody>\n",
              "    <tr>\n",
              "      <th>0</th>\n",
              "      <td>0.521129</td>\n",
              "      <td>0.413110</td>\n",
              "    </tr>\n",
              "    <tr>\n",
              "      <th>1</th>\n",
              "      <td>0.512944</td>\n",
              "      <td>0.394387</td>\n",
              "    </tr>\n",
              "    <tr>\n",
              "      <th>2</th>\n",
              "      <td>0.505704</td>\n",
              "      <td>0.398487</td>\n",
              "    </tr>\n",
              "    <tr>\n",
              "      <th>3</th>\n",
              "      <td>0.000000</td>\n",
              "      <td>0.000000</td>\n",
              "    </tr>\n",
              "    <tr>\n",
              "      <th>4</th>\n",
              "      <td>0.468102</td>\n",
              "      <td>0.420920</td>\n",
              "    </tr>\n",
              "    <tr>\n",
              "      <th>5</th>\n",
              "      <td>0.540733</td>\n",
              "      <td>0.492119</td>\n",
              "    </tr>\n",
              "    <tr>\n",
              "      <th>6</th>\n",
              "      <td>0.440045</td>\n",
              "      <td>0.499471</td>\n",
              "    </tr>\n",
              "    <tr>\n",
              "      <th>7</th>\n",
              "      <td>0.593079</td>\n",
              "      <td>0.557568</td>\n",
              "    </tr>\n",
              "    <tr>\n",
              "      <th>8</th>\n",
              "      <td>0.457175</td>\n",
              "      <td>0.569924</td>\n",
              "    </tr>\n",
              "    <tr>\n",
              "      <th>9</th>\n",
              "      <td>0.588790</td>\n",
              "      <td>0.494250</td>\n",
              "    </tr>\n",
              "    <tr>\n",
              "      <th>10</th>\n",
              "      <td>0.517000</td>\n",
              "      <td>0.514391</td>\n",
              "    </tr>\n",
              "    <tr>\n",
              "      <th>11</th>\n",
              "      <td>0.520177</td>\n",
              "      <td>0.733182</td>\n",
              "    </tr>\n",
              "    <tr>\n",
              "      <th>12</th>\n",
              "      <td>0.429496</td>\n",
              "      <td>0.721870</td>\n",
              "    </tr>\n",
              "    <tr>\n",
              "      <th>13</th>\n",
              "      <td>0.573823</td>\n",
              "      <td>0.836162</td>\n",
              "    </tr>\n",
              "    <tr>\n",
              "      <th>14</th>\n",
              "      <td>0.329653</td>\n",
              "      <td>0.789786</td>\n",
              "    </tr>\n",
              "    <tr>\n",
              "      <th>15</th>\n",
              "      <td>0.555795</td>\n",
              "      <td>0.839260</td>\n",
              "    </tr>\n",
              "    <tr>\n",
              "      <th>16</th>\n",
              "      <td>0.183891</td>\n",
              "      <td>0.742151</td>\n",
              "    </tr>\n",
              "  </tbody>\n",
              "</table>\n",
              "</div>"
            ],
            "text/plain": [
              "           0         1\n",
              "0   0.521129  0.413110\n",
              "1   0.512944  0.394387\n",
              "2   0.505704  0.398487\n",
              "3   0.000000  0.000000\n",
              "4   0.468102  0.420920\n",
              "5   0.540733  0.492119\n",
              "6   0.440045  0.499471\n",
              "7   0.593079  0.557568\n",
              "8   0.457175  0.569924\n",
              "9   0.588790  0.494250\n",
              "10  0.517000  0.514391\n",
              "11  0.520177  0.733182\n",
              "12  0.429496  0.721870\n",
              "13  0.573823  0.836162\n",
              "14  0.329653  0.789786\n",
              "15  0.555795  0.839260\n",
              "16  0.183891  0.742151"
            ]
          },
          "metadata": {},
          "output_type": "display_data"
        }
      ],
      "source": [
        "# result_keypoints=np.zeros(shape=3)\n",
        "# for r in results:\n",
        "    # result_keypoints += r.keypoints.xyn\\\n",
        "result_keypoint = results[0].keypoints.xyn.numpy()\n",
        "df = pd.DataFrame(result_keypoint.squeeze())\n",
        "display(df)"
      ]
    },
    {
      "cell_type": "code",
      "execution_count": 93,
      "metadata": {
        "id": "kBbWMGl9uMWL"
      },
      "outputs": [],
      "source": [
        "# Show the results\n",
        "for r in results:\n",
        "    im_array = r.plot()  # plot a BGR numpy array of predictions\n",
        "    im = Image.fromarray(im_array[..., ::-1])  # RGB PIL image\n",
        "    im.show()  # show image\n",
        "    im.save('results.jpg')  # save image"
      ]
    },
    {
      "cell_type": "code",
      "execution_count": null,
      "metadata": {
        "colab": {
          "base_uri": "https://localhost:8080/",
          "height": 495
        },
        "id": "HkJujSwzO4jW",
        "outputId": "c1554287-1550-4b4e-eb7e-abc322a147d5"
      },
      "outputs": [
        {
          "ename": "TypeError",
          "evalue": "'module' object is not callable",
          "output_type": "error",
          "traceback": [
            "\u001b[0;31m---------------------------------------------------------------------------\u001b[0m",
            "\u001b[0;31mTypeError\u001b[0m                                 Traceback (most recent call last)",
            "\u001b[1;32m/Users/jin.p/Downloads/vision.ipynb Cell 9\u001b[0m line \u001b[0;36m1\n\u001b[0;32m----> <a href='vscode-notebook-cell:/Users/jin.p/Downloads/vision.ipynb#X11sZmlsZQ%3D%3D?line=0'>1</a>\u001b[0m image1 \u001b[39m=\u001b[39m Image(filename\u001b[39m=\u001b[39;49m\u001b[39m'\u001b[39;49m\u001b[39mresults.jpg\u001b[39;49m\u001b[39m'\u001b[39;49m)\n\u001b[1;32m      <a href='vscode-notebook-cell:/Users/jin.p/Downloads/vision.ipynb#X11sZmlsZQ%3D%3D?line=1'>2</a>\u001b[0m display(image1)\n",
            "\u001b[0;31mTypeError\u001b[0m: 'module' object is not callable"
          ]
        }
      ],
      "source": [
        "#image1 = Image(filename='results.jpg')\n",
        "#display(image1)    # colab에서 이미지 추출 안될때 주석 해제하고 실행하기"
      ]
    }
  ],
  "metadata": {
    "colab": {
      "provenance": []
    },
    "kernelspec": {
      "display_name": "Python 3",
      "name": "python3"
    },
    "language_info": {
      "codemirror_mode": {
        "name": "ipython",
        "version": 3
      },
      "file_extension": ".py",
      "mimetype": "text/x-python",
      "name": "python",
      "nbconvert_exporter": "python",
      "pygments_lexer": "ipython3",
      "version": "3.9.18"
    }
  },
  "nbformat": 4,
  "nbformat_minor": 0
}
